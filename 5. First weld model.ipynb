{
 "cells": [
  {
   "cell_type": "markdown",
   "id": "9fea3823",
   "metadata": {},
   "source": [
    "## First Weld Model of Detection"
   ]
  },
  {
   "cell_type": "markdown",
   "id": "23e12271",
   "metadata": {},
   "source": [
    "Til the date of this push in GIT, **the suggestion is run de code in Colab GPU T4** to reason of computacional cost.\n",
    "\n",
    "* Download a dataset, prepare it, train it, and save it."
   ]
  },
  {
   "cell_type": "markdown",
   "id": "c55c72fb",
   "metadata": {},
   "source": [
    "### 1) Load Dataset 🤓\n",
    "\n",
    "We will use a set of images of Industrial Welding Defects provided by the client."
   ]
  },
  {
   "cell_type": "code",
   "execution_count": null,
   "id": "6c02a7a8",
   "metadata": {},
   "outputs": [],
   "source": [
    "!unrar x \"Weld_Defects.rar\""
   ]
  },
  {
   "cell_type": "markdown",
   "id": "6a1b4a9b",
   "metadata": {},
   "source": [
    "### 2) Dependencies 👌"
   ]
  },
  {
   "cell_type": "code",
   "execution_count": null,
   "id": "e248d817",
   "metadata": {},
   "outputs": [],
   "source": [
    "!pip install ultralytics"
   ]
  },
  {
   "cell_type": "code",
   "execution_count": null,
   "id": "6d203bc1",
   "metadata": {},
   "outputs": [],
   "source": [
    "from ultralytics import YOLO"
   ]
  },
  {
   "cell_type": "markdown",
   "id": "714775b3",
   "metadata": {},
   "source": [
    "### 3) Training 💪"
   ]
  },
  {
   "cell_type": "markdown",
   "id": "d0edfaff",
   "metadata": {},
   "source": [
    "Load a model pre-trained"
   ]
  },
  {
   "cell_type": "code",
   "execution_count": null,
   "id": "436a393e",
   "metadata": {},
   "outputs": [],
   "source": [
    "model = YOLO(\"yolo11n.pt\")"
   ]
  },
  {
   "cell_type": "code",
   "execution_count": null,
   "id": "dd44c5c5",
   "metadata": {},
   "outputs": [],
   "source": [
    "yaml_path = \"/content/defectos_de_soldaduras/data.yaml\""
   ]
  },
  {
   "cell_type": "markdown",
   "id": "86e586ab",
   "metadata": {},
   "source": [
    "#### 📍 Option  1: Default Setup"
   ]
  },
  {
   "cell_type": "code",
   "execution_count": null,
   "id": "be7fa4d6",
   "metadata": {},
   "outputs": [],
   "source": [
    "model.train(\n",
    "    data=yaml_path,\n",
    "    epochs=10,\n",
    "    imgsz=640, # We need de Iamages dimensions\n",
    "    augment=True,\n",
    "    )"
   ]
  },
  {
   "cell_type": "markdown",
   "id": "f09b2335",
   "metadata": {},
   "source": [
    "#### 📍 Option 2) Patience Early Stopping"
   ]
  },
  {
   "cell_type": "markdown",
   "id": "9f4d507e",
   "metadata": {},
   "source": [
    "If it doen't improve with 5 epochs in the loss validation, You must to stop training."
   ]
  },
  {
   "cell_type": "code",
   "execution_count": null,
   "id": "5620cb92",
   "metadata": {},
   "outputs": [],
   "source": [
    "model.train(\n",
    "    data=yaml_path,\n",
    "    epochs=20,\n",
    "    imgsz=640,\n",
    "    augment=True,\n",
    "    patience=5,\n",
    "    )"
   ]
  },
  {
   "cell_type": "markdown",
   "id": "35bb91a8",
   "metadata": {},
   "source": [
    "#### 📍 Option 3) Custom Data Augmentation"
   ]
  },
  {
   "cell_type": "markdown",
   "id": "9faf1347",
   "metadata": {},
   "source": [
    "Diferentes operaciones de Data Augmentation."
   ]
  },
  {
   "cell_type": "code",
   "execution_count": null,
   "id": "5fd33f0f",
   "metadata": {},
   "outputs": [],
   "source": [
    "model.train(\n",
    "    data=yaml_path,\n",
    "    epochs=10,\n",
    "    imgsz=640,\n",
    "    augment=True,\n",
    "    patience=5,\n",
    "    hsv_h=0.015,    # HSV hue adjustment (change color tone)\n",
    "    hsv_s=0.7,      # HSV saturation adjustment\n",
    "    hsv_v=0.4,      # HSV brightness adjustment\n",
    "    flipud=0.5,     # Vertical flip with 50% probability\n",
    "    fliplr=0.5,     # Horizontal flip with 50% probability\n",
    "    mosaic=1.0,     # Enable mosaic (image mixing)\n",
    "    mixup=0.5,      # Mix two images with 50% probability\n",
    "    perspective=0.0005,  # Perspective transformation\n",
    "    degrees=5.0,    # Rotation of ±5 degrees\n",
    "    shear=2.0,      # Image shearing\n",
    "    scale=0.5,      # Image zoom\n",
    ")"
   ]
  },
  {
   "cell_type": "markdown",
   "id": "6a920f25",
   "metadata": {},
   "source": [
    "### 4) Save Model 💾"
   ]
  },
  {
   "cell_type": "markdown",
   "id": "9672366c",
   "metadata": {},
   "source": [
    "Save complet model ( Arquitecture + Weights )"
   ]
  },
  {
   "cell_type": "code",
   "execution_count": null,
   "id": "0cef5479",
   "metadata": {},
   "outputs": [],
   "source": [
    "model.save(\"mi_modelo.pt\")"
   ]
  },
  {
   "cell_type": "markdown",
   "id": "138c504f",
   "metadata": {},
   "source": [
    "Luego, para cargarlo:"
   ]
  },
  {
   "cell_type": "code",
   "execution_count": null,
   "id": "25146dba",
   "metadata": {},
   "outputs": [],
   "source": [
    "mi_modelo = YOLO(\"mi_modelo.pt\")"
   ]
  },
  {
   "cell_type": "markdown",
   "id": "f74a05d7",
   "metadata": {},
   "source": [
    "### 5) Make predictions on production 🤙"
   ]
  },
  {
   "cell_type": "markdown",
   "id": "519c552c",
   "metadata": {},
   "source": [
    "#### 📍 1) View results"
   ]
  },
  {
   "cell_type": "code",
   "execution_count": null,
   "id": "7fc0a615",
   "metadata": {},
   "outputs": [],
   "source": [
    "import os\n",
    "from IPython.display import Image, display"
   ]
  },
  {
   "cell_type": "markdown",
   "id": "601230aa",
   "metadata": {},
   "source": [
    "Create folder to save test results "
   ]
  },
  {
   "cell_type": "code",
   "execution_count": null,
   "id": "c435cfa7",
   "metadata": {},
   "outputs": [],
   "source": [
    "save_dir = \"./testing/\"\n",
    "os.makedirs(save_dir, exist_ok=True)"
   ]
  },
  {
   "cell_type": "code",
   "execution_count": null,
   "id": "b9b9bdf6",
   "metadata": {},
   "outputs": [],
   "source": [
    "image_path = \"/content/defectos_de_soldaduras/valid/images/SampleV1_1_mp4-24_jpg.rf.8487d87bb4c1d1ab9059da84ac881495.jpg\"\n",
    "\n",
    "results = mi_modelo(image_path)\n",
    "\n",
    "for result in results:\n",
    "  result.plot(save=True, filename=os.path.join(save_dir, os.path.basename(result.path)))\n",
    "  result_image_path = os.path.join(save_dir, os.path.basename(result.path))\n",
    "  display(Image(filename=result_image_path))"
   ]
  },
  {
   "cell_type": "markdown",
   "id": "3b9c7f50",
   "metadata": {},
   "source": [
    "#### 📍 2) Filter response"
   ]
  },
  {
   "cell_type": "markdown",
   "id": "d65b022b",
   "metadata": {},
   "source": [
    "Return only wich ones with confidence up to 30%."
   ]
  },
  {
   "cell_type": "code",
   "execution_count": null,
   "id": "18c766e0",
   "metadata": {},
   "outputs": [],
   "source": [
    "image_path = \"/content/defectos_de_soldaduras/valid/images/SampleV1_1_mp4-24_jpg.rf.8487d87bb4c1d1ab9059da84ac881495.jpg\"\n",
    "\n",
    "results = mi_modelo(\n",
    "    image_path,\n",
    "    conf=0.30,\n",
    "    )\n",
    "\n",
    "for result in results:\n",
    "  result.plot(save=True, filename=os.path.join(save_dir, os.path.basename(result.path)))\n",
    "  result_image_path = os.path.join(save_dir, os.path.basename(result.path))\n",
    "  display(Image(filename=result_image_path))"
   ]
  },
  {
   "cell_type": "markdown",
   "id": "2c067a3d",
   "metadata": {},
   "source": [
    "Return only those with a confidence level greater than 30% and of the \"Good Weld\" class."
   ]
  },
  {
   "cell_type": "code",
   "execution_count": null,
   "id": "ef72cf62",
   "metadata": {},
   "outputs": [],
   "source": [
    "image_path = \"/content/defectos_de_soldaduras/valid/images/SampleV1_1_mp4-24_jpg.rf.8487d87bb4c1d1ab9059da84ac881495.jpg\"\n",
    "\n",
    "\n",
    "results = mi_modelo(\n",
    "    image_path,\n",
    "    conf=0.30,\n",
    "    classes=[1],\n",
    "    )\n",
    "\n",
    "for result in results:\n",
    "  result.plot(save=True, filename=os.path.join(save_dir, os.path.basename(result.path)))\n",
    "  result_image_path = os.path.join(save_dir, os.path.basename(result.path))\n",
    "  display(Image(filename=result_image_path))"
   ]
  },
  {
   "cell_type": "markdown",
   "id": "de1493a8",
   "metadata": {},
   "source": [
    "#### 📍 3) Return Specific Results"
   ]
  },
  {
   "cell_type": "code",
   "execution_count": null,
   "id": "af65a580",
   "metadata": {},
   "outputs": [],
   "source": [
    "def detectar_objetos(image_path, model):\n",
    "    \"\"\"\n",
    "    Performs object detection on an image and returns:\n",
    "      - The bounding boxes in [x1, y1, x2, y2] format.\n",
    "      - The names of the detected classes.\n",
    "      - The confidences of each detection.\n",
    "      - The annotated image with the detections drawn.\n",
    "\n",
    "    Parameters:\n",
    "      image_path (str): Path to the image.\n",
    "      model: Trained YOLO model.\n",
    "\n",
    "    Returns:\n",
    "      boxes (numpy.ndarray): Array of bounding boxes.\n",
    "      class_names (list): List with the names of the detected classes.\n",
    "      confidences (numpy.ndarray): Array with detection scores/confidences.\n",
    "      annotated_img (numpy.ndarray): Image with the detections drawn.\n",
    "    \"\"\"\n",
    "    # Perform detection (for a single image, results is a list, we take the first result)\n",
    "    results = model(image_path)\n",
    "    result = results[0]\n",
    "\n",
    "    # Extract bounding boxes in xyxy format\n",
    "    boxes = result.boxes.xyxy.cpu().numpy()\n",
    "\n",
    "    # Extract class indices and confidence scores\n",
    "    classes_idx = result.boxes.cls.cpu().numpy().astype(int)\n",
    "    confidences = result.boxes.conf.cpu().numpy()\n",
    "\n",
    "    # If the model has a class name dictionary, retrieve class names\n",
    "    if hasattr(model, \"names\"):\n",
    "        class_names = [model.names[i] for i in classes_idx]\n",
    "    else:\n",
    "        class_names = classes_idx  # If not available, return class indices\n",
    "\n",
    "    # Get the image with bounding boxes drawn on it\n",
    "    annotated_img = result.plot()\n",
    "\n",
    "    return boxes, class_names, confidences, annotated_img"
   ]
  },
  {
   "cell_type": "code",
   "execution_count": null,
   "id": "d5a4b69a",
   "metadata": {},
   "outputs": [],
   "source": [
    "image_path = \"/content/defectos_de_soldaduras/valid/images/SampleV2_1_mp4-26_jpg.rf.a8431cb1acce1c55d32861c982c2a16a.jpg\"\n",
    "\n",
    "boxes, classes, confs, img_anotada = detectar_objetos(image_path, mi_modelo)"
   ]
  },
  {
   "cell_type": "code",
   "execution_count": null,
   "id": "a82cbd10",
   "metadata": {},
   "outputs": [],
   "source": [
    "img_anotada"
   ]
  },
  {
   "cell_type": "code",
   "execution_count": null,
   "id": "dcec469d",
   "metadata": {},
   "outputs": [],
   "source": [
    "print(\"Bounding Boxes:\", boxes)\n",
    "print(\"Class Names:\", classes)\n",
    "print(\"Confidences:\", confs)"
   ]
  },
  {
   "cell_type": "markdown",
   "id": "5f9bf5eb",
   "metadata": {},
   "source": [
    "### 6) Conclusions\n",
    "\n",
    "- learn about the different objects and methods that YOLO offers us.\n",
    "\n",
    "- Perform the complete image detection process with YOLO.\n",
    "\n",
    "<br>\n",
    "<br>\n",
    "<br>"
   ]
  }
 ],
 "metadata": {
  "language_info": {
   "name": "python"
  }
 },
 "nbformat": 4,
 "nbformat_minor": 5
}
