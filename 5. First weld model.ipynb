{
 "cells": [
  {
   "cell_type": "markdown",
   "id": "9fea3823",
   "metadata": {},
   "source": [
    "## First Weld Model of Detection"
   ]
  },
  {
   "cell_type": "markdown",
   "id": "23e12271",
   "metadata": {},
   "source": [
    "Til the date of this push in GIT, the suggestion is run de code in Colab GPU T4 to reason of computacional cost.\n",
    "\n",
    "* Download a dataset, prepare it, train it, and save it."
   ]
  },
  {
   "cell_type": "markdown",
   "id": "c55c72fb",
   "metadata": {},
   "source": [
    "### 1) Load Dataset 🤓\n",
    "\n",
    "We will use a set of images of Industrial Welding Defects provided by the client."
   ]
  },
  {
   "cell_type": "code",
   "execution_count": null,
   "id": "6c02a7a8",
   "metadata": {},
   "outputs": [],
   "source": [
    "!unrar x \"Weld_Defects.rar\""
   ]
  },
  {
   "cell_type": "markdown",
   "id": "6a1b4a9b",
   "metadata": {},
   "source": [
    "### 2) Dependencias 👌"
   ]
  },
  {
   "cell_type": "code",
   "execution_count": null,
   "id": "e248d817",
   "metadata": {},
   "outputs": [],
   "source": [
    "!pip install ultralytics"
   ]
  },
  {
   "cell_type": "code",
   "execution_count": null,
   "id": "6d203bc1",
   "metadata": {},
   "outputs": [],
   "source": [
    "from ultralytics import YOLO"
   ]
  },
  {
   "cell_type": "markdown",
   "id": "714775b3",
   "metadata": {},
   "source": [
    "### 3) Entrenamiento 💪"
   ]
  },
  {
   "cell_type": "markdown",
   "id": "d0edfaff",
   "metadata": {},
   "source": [
    "Cargar un modelo preentrenado"
   ]
  },
  {
   "cell_type": "code",
   "execution_count": null,
   "id": "436a393e",
   "metadata": {},
   "outputs": [],
   "source": [
    "model = YOLO(\"yolo11n.pt\")"
   ]
  },
  {
   "cell_type": "code",
   "execution_count": null,
   "id": "dd44c5c5",
   "metadata": {},
   "outputs": [],
   "source": [
    "yaml_path = \"/content/defectos_de_soldaduras/data.yaml\""
   ]
  },
  {
   "cell_type": "markdown",
   "id": "86e586ab",
   "metadata": {},
   "source": [
    "#### 📍 Opción 1: Configuración por default"
   ]
  },
  {
   "cell_type": "code",
   "execution_count": null,
   "id": "be7fa4d6",
   "metadata": {},
   "outputs": [],
   "source": [
    "model.train(\n",
    "    data=yaml_path,\n",
    "    epochs=10,\n",
    "    imgsz=640,\n",
    "    augment=True,\n",
    "    )"
   ]
  },
  {
   "cell_type": "markdown",
   "id": "f09b2335",
   "metadata": {},
   "source": [
    "#### 📍 Opción 2) Patience con Early Stopping"
   ]
  },
  {
   "cell_type": "markdown",
   "id": "9f4d507e",
   "metadata": {},
   "source": [
    "Si no mejora en 5 epochs el loss validation, detiene el entrenamiento."
   ]
  },
  {
   "cell_type": "code",
   "execution_count": null,
   "id": "5620cb92",
   "metadata": {},
   "outputs": [],
   "source": [
    "model.train(\n",
    "    data=yaml_path,\n",
    "    epochs=20,\n",
    "    imgsz=640,\n",
    "    augment=True,\n",
    "    patience=5,\n",
    "    )"
   ]
  },
  {
   "cell_type": "markdown",
   "id": "35bb91a8",
   "metadata": {},
   "source": [
    "#### 📍 Opción 3) Custom Data Augmentation"
   ]
  },
  {
   "cell_type": "markdown",
   "id": "9faf1347",
   "metadata": {},
   "source": [
    "Diferentes operaciones de Data Augmentation."
   ]
  },
  {
   "cell_type": "code",
   "execution_count": null,
   "id": "5fd33f0f",
   "metadata": {},
   "outputs": [],
   "source": [
    "model.train(\n",
    "    data=yaml_path,\n",
    "    epochs=10,\n",
    "    imgsz=640,\n",
    "    augment=True,\n",
    "    patience=5,\n",
    "    hsv_h=0.015,    # Ajuste de tono HSV (cambiar color)\n",
    "    hsv_s=0.7,      # Ajuste de saturación HSV\n",
    "    hsv_v=0.4,      # Ajuste de brillo HSV\n",
    "    flipud=0.5,     # Volteo vertical con 50% de probabilidad\n",
    "    fliplr=0.5,     # Volteo horizontal con 50% de probabilidad\n",
    "    mosaic=1.0,     # Habilitar mosaico (mezcla de imágenes)\n",
    "    mixup=0.5,      # Mezcla dos imágenes con probabilidad 50%\n",
    "    perspective=0.0005,  # Transformación en perspectiva\n",
    "    degrees=5.0,    # Rotación de ±5 grados\n",
    "    shear=2.0,      # Inclinación de la imagen\n",
    "    scale=0.5,      # Zoom en la imagen\n",
    ")"
   ]
  },
  {
   "cell_type": "markdown",
   "id": "6a920f25",
   "metadata": {},
   "source": [
    "### 4) Guardar el modelo 💾"
   ]
  },
  {
   "cell_type": "markdown",
   "id": "9672366c",
   "metadata": {},
   "source": [
    "Guarda el modelo completo (arquitectura + pesos)"
   ]
  },
  {
   "cell_type": "code",
   "execution_count": null,
   "id": "0cef5479",
   "metadata": {},
   "outputs": [],
   "source": [
    "model.save(\"mi_modelo.pt\")"
   ]
  },
  {
   "cell_type": "markdown",
   "id": "138c504f",
   "metadata": {},
   "source": [
    "Luego, para cargarlo:"
   ]
  },
  {
   "cell_type": "code",
   "execution_count": null,
   "id": "25146dba",
   "metadata": {},
   "outputs": [],
   "source": [
    "mi_modelo = YOLO(\"mi_modelo.pt\")"
   ]
  },
  {
   "cell_type": "markdown",
   "id": "f74a05d7",
   "metadata": {},
   "source": [
    "### 5) Hacer Predicciones en Producción 🤙"
   ]
  },
  {
   "cell_type": "markdown",
   "id": "519c552c",
   "metadata": {},
   "source": [
    "#### 📍 1) Visualizar resultados"
   ]
  },
  {
   "cell_type": "code",
   "execution_count": null,
   "id": "7fc0a615",
   "metadata": {},
   "outputs": [],
   "source": [
    "import os\n",
    "from IPython.display import Image, display"
   ]
  },
  {
   "cell_type": "markdown",
   "id": "601230aa",
   "metadata": {},
   "source": [
    "Crear carpeta para guardar resultados de prueba"
   ]
  },
  {
   "cell_type": "code",
   "execution_count": null,
   "id": "c435cfa7",
   "metadata": {},
   "outputs": [],
   "source": [
    "save_dir = \"./testing/\"\n",
    "os.makedirs(save_dir, exist_ok=True)"
   ]
  },
  {
   "cell_type": "code",
   "execution_count": null,
   "id": "b9b9bdf6",
   "metadata": {},
   "outputs": [],
   "source": [
    "image_path = \"/content/defectos_de_soldaduras/valid/images/SampleV1_1_mp4-24_jpg.rf.8487d87bb4c1d1ab9059da84ac881495.jpg\"\n",
    "\n",
    "results = mi_modelo(image_path)\n",
    "\n",
    "for result in results:\n",
    "  result.plot(save=True, filename=os.path.join(save_dir, os.path.basename(result.path)))\n",
    "  result_image_path = os.path.join(save_dir, os.path.basename(result.path))\n",
    "  display(Image(filename=result_image_path))"
   ]
  },
  {
   "cell_type": "markdown",
   "id": "3b9c7f50",
   "metadata": {},
   "source": [
    "#### 📍 2) Filtrar respuesta"
   ]
  },
  {
   "cell_type": "markdown",
   "id": "d65b022b",
   "metadata": {},
   "source": [
    "Devolver solo los que tenga un confidence mayor a 30%."
   ]
  },
  {
   "cell_type": "code",
   "execution_count": null,
   "id": "18c766e0",
   "metadata": {},
   "outputs": [],
   "source": [
    "image_path = \"/content/defectos_de_soldaduras/valid/images/SampleV1_1_mp4-24_jpg.rf.8487d87bb4c1d1ab9059da84ac881495.jpg\"\n",
    "\n",
    "results = mi_modelo(\n",
    "    image_path,\n",
    "    conf=0.30,\n",
    "    )\n",
    "\n",
    "for result in results:\n",
    "  result.plot(save=True, filename=os.path.join(save_dir, os.path.basename(result.path)))\n",
    "  result_image_path = os.path.join(save_dir, os.path.basename(result.path))\n",
    "  display(Image(filename=result_image_path))"
   ]
  },
  {
   "cell_type": "markdown",
   "id": "2c067a3d",
   "metadata": {},
   "source": [
    "Devolver solo los que tenga un confidence mayor a 30% y sea de la clase \"Good Weld\"."
   ]
  },
  {
   "cell_type": "code",
   "execution_count": null,
   "id": "ef72cf62",
   "metadata": {},
   "outputs": [],
   "source": [
    "image_path = \"/content/defectos_de_soldaduras/valid/images/SampleV1_1_mp4-24_jpg.rf.8487d87bb4c1d1ab9059da84ac881495.jpg\"\n",
    "\n",
    "\n",
    "results = mi_modelo(\n",
    "    image_path,\n",
    "    conf=0.30,\n",
    "    classes=[1],\n",
    "    )\n",
    "\n",
    "for result in results:\n",
    "  result.plot(save=True, filename=os.path.join(save_dir, os.path.basename(result.path)))\n",
    "  result_image_path = os.path.join(save_dir, os.path.basename(result.path))\n",
    "  display(Image(filename=result_image_path))"
   ]
  },
  {
   "cell_type": "markdown",
   "id": "de1493a8",
   "metadata": {},
   "source": [
    "#### 📍 3) Devolver resultados específicos"
   ]
  },
  {
   "cell_type": "code",
   "execution_count": null,
   "id": "af65a580",
   "metadata": {},
   "outputs": [],
   "source": [
    "def detectar_objetos(image_path, model):\n",
    "    \"\"\"\n",
    "    Realiza la detección de objetos en una imagen y devuelve:\n",
    "      - Las cajas delimitadoras (bounding boxes) en formato [x1, y1, x2, y2].\n",
    "      - Los nombres de las clases detectadas.\n",
    "      - Los confidences de cada detección.\n",
    "      - La imagen anotada con las detecciones.\n",
    "\n",
    "    Parámetros:\n",
    "      image_path (str): Ruta a la imagen.\n",
    "      model: Modelo YOLO entrenado.\n",
    "\n",
    "    Retorna:\n",
    "      boxes (numpy.ndarray): Arreglo de bounding boxes.\n",
    "      class_names (list): Lista con los nombres de las clases detectadas.\n",
    "      confidences (numpy.ndarray): Arreglo con los scores/confidencias.\n",
    "      annotated_img (numpy.ndarray): Imagen con las detecciones dibujadas.\n",
    "    \"\"\"\n",
    "    # Realiza la detección (para una imagen, results es una lista y tomamos el primer resultado)\n",
    "    results = model(image_path)\n",
    "    result = results[0]\n",
    "\n",
    "    # Extrae las cajas delimitadoras (bounding boxes) en formato xyxy\n",
    "    boxes = result.boxes.xyxy.cpu().numpy()\n",
    "\n",
    "    # Extrae los índices de las clases detectadas y las confidencias\n",
    "    classes_idx = result.boxes.cls.cpu().numpy().astype(int)\n",
    "    confidences = result.boxes.conf.cpu().numpy()\n",
    "\n",
    "    # Si el modelo tiene el diccionario de nombres, se obtienen los nombres de las clases\n",
    "    if hasattr(model, \"names\"):\n",
    "        class_names = [model.names[i] for i in classes_idx]\n",
    "    else:\n",
    "        class_names = classes_idx  # Si no existe, se retorna los índices de clase\n",
    "\n",
    "    # Se obtiene la imagen con los bounding boxes ya dibujados\n",
    "    annotated_img = result.plot()\n",
    "\n",
    "    return boxes, class_names, confidences, annotated_img"
   ]
  },
  {
   "cell_type": "code",
   "execution_count": null,
   "id": "d5a4b69a",
   "metadata": {},
   "outputs": [],
   "source": [
    "image_path = \"/content/defectos_de_soldaduras/valid/images/SampleV2_1_mp4-26_jpg.rf.a8431cb1acce1c55d32861c982c2a16a.jpg\"\n",
    "\n",
    "boxes, classes, confs, img_anotada = detectar_objetos(image_path, mi_modelo)"
   ]
  },
  {
   "cell_type": "code",
   "execution_count": null,
   "id": "a82cbd10",
   "metadata": {},
   "outputs": [],
   "source": [
    "img_anotada"
   ]
  },
  {
   "cell_type": "code",
   "execution_count": null,
   "id": "dcec469d",
   "metadata": {},
   "outputs": [],
   "source": [
    "print(\"Bounding Boxes:\", boxes)\n",
    "print(\"Class Names:\", classes)\n",
    "print(\"Confidences:\", confs)"
   ]
  },
  {
   "cell_type": "markdown",
   "id": "5f9bf5eb",
   "metadata": {},
   "source": [
    "### 6) Conclusiones\n",
    "\n",
    "- Aprender sobre los distintos objetos y métodos que nos ofrece YOLO.\n",
    "\n",
    "- Realizar el proceso completo de detección de imágenes con YOLO.\n",
    "\n",
    "<br>\n",
    "<br>\n",
    "<br>"
   ]
  },
  {
   "cell_type": "markdown",
   "id": "3ce92919",
   "metadata": {},
   "source": [
    "---\n",
    "\n",
    "<br>\n",
    "<br>\n",
    "\n",
    "\n",
    "<img src=\"https://static.platzi.com/media/avatars/platziteam_8cfe6fc7-1246-4c9a-9f5d-d10d467443ee.png\" width=\"100px\">\n",
    "\n",
    "[Platzi](https://platzi.com/) 🚀\n",
    "\n"
   ]
  }
 ],
 "metadata": {
  "language_info": {
   "name": "python"
  }
 },
 "nbformat": 4,
 "nbformat_minor": 5
}
